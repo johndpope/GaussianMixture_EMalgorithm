{
 "cells": [
  {
   "cell_type": "markdown",
   "metadata": {},
   "source": [
    "# Simple Example of Expectation Maximization Algorithm on Gaussian Mixture Model"
   ]
  },
  {
   "cell_type": "markdown",
   "metadata": {},
   "source": [
    "### The expectation maximization algorithm is an interative algorithm that searches for the maximum likelihood estimate of unknown parameters. It is generally used when there are unobserved random variables (ie. missing information).\n",
    "\n",
    "### For example, imagine flipping a biased coin (you don't know the bias!), and sampling from one distribution (G1) when you get heads, and sampling from another (G2) when you get tails. You get hungry so you leave to grab a snack and when you get back to your desk, someone has stolen the paper on which you wrote down which samples were samples from G1 and which were from G2. \n",
    "\n",
    "### Here, the missing information is what distribution (G1 or G2) each sample was taken from. Even without this information, can we still estimate the mean $(\\mu)$ and variance $(\\sigma^2)$ of G1 and G2? \n",
    "\n",
    "### The answer is yes with the help of the EM algorithm!"
   ]
  },
  {
   "cell_type": "markdown",
   "metadata": {},
   "source": [
    "## Import some useful things"
   ]
  },
  {
   "cell_type": "code",
   "execution_count": null,
   "metadata": {
    "collapsed": true
   },
   "outputs": [],
   "source": [
    "%matplotlib inline\n",
    "\n",
    "import numpy as np\n",
    "import pandas as pd\n",
    "import scipy.stats\n",
    "\n",
    "import matplotlib.pyplot as plt"
   ]
  },
  {
   "cell_type": "markdown",
   "metadata": {},
   "source": [
    "## Set some parameters"
   ]
  },
  {
   "cell_type": "code",
   "execution_count": 5,
   "metadata": {
    "collapsed": true
   },
   "outputs": [],
   "source": [
    "# Set Pi, the probability of sampling from G1\n",
    "Pi = 0.3\n",
    "\n",
    "# Set [mean, variance] of two gaussians, G1 and G2.\n",
    "G1 = [0,7]\n",
    "G2 = [15,2]\n"
   ]
  },
  {
   "cell_type": "code",
   "execution_count": 6,
   "metadata": {
    "collapsed": true
   },
   "outputs": [],
   "source": [
    "def cointoss(p):\n",
    "    if np.random.random() > p:\n",
    "        return 0\n",
    "    else:\n",
    "        return 1\n",
    "\n",
    "def sample(pi, gaus1, gaus2):\n",
    "    if cointoss(pi):\n",
    "        return np.random.normal(loc=gaus1[0], scale=gaus1[1])\n",
    "    else:\n",
    "        return np.random.normal(loc=gaus2[0], scale=gaus2[1])"
   ]
  },
  {
   "cell_type": "markdown",
   "metadata": {},
   "source": [
    "## Sample Gaussian Mixture"
   ]
  },
  {
   "cell_type": "code",
   "execution_count": 18,
   "metadata": {},
   "outputs": [],
   "source": [
    "# Sample from the two gaussians\n",
    "\n",
    "X = []\n",
    "for i in range(1000):\n",
    "    X.append(sample(Pi, G1, G2))"
   ]
  },
  {
   "cell_type": "code",
   "execution_count": 19,
   "metadata": {
    "scrolled": false
   },
   "outputs": [
    {
     "name": "stderr",
     "output_type": "stream",
     "text": [
      "/Users/wooyoung/anaconda/lib/python3.6/site-packages/matplotlib/figure.py:403: UserWarning: matplotlib is currently using a non-GUI backend, so cannot show the figure\n",
      "  \"matplotlib is currently using a non-GUI backend, \"\n"
     ]
    },
    {
     "data": {
      "image/png": "[encoded data removed]",
      "text/plain": [
       "<matplotlib.figure.Figure at 0x1213ae9e8>"
      ]
     },
     "metadata": {},
     "output_type": "display_data"
    }
   ],
   "source": [
    "# Plot the sampled data\n",
    "f = plt.figure(figsize=(10,5))\n",
    "plt.hist(X, bins=np.arange(-50,50,1))\n",
    "f.show()"
   ]
  },
  {
   "cell_type": "markdown",
   "metadata": {},
   "source": [
    "# Initialize estimated parameters"
   ]
  },
  {
   "cell_type": "code",
   "execution_count": 116,
   "metadata": {},
   "outputs": [],
   "source": [
    "pi = 0.5\n",
    "\n",
    "\n",
    "(mu1, sig1) = (5,5)\n",
    "(mu2, sig2) = (10,10)\n",
    "\n",
    "Y = [cointoss(pi) for x in range(5000)]"
   ]
  },
  {
   "cell_type": "markdown",
   "metadata": {},
   "source": [
    "## Define some functions"
   ]
  },
  {
   "cell_type": "code",
   "execution_count": 109,
   "metadata": {
    "collapsed": true
   },
   "outputs": [],
   "source": [
    "def Prob_x(x, mu, sigma):\n",
    "    return scipy.stats.norm.pdf(x, loc=mu, scale=sigma)\n",
    "\n",
    "def Prob_X(X, mu, sigma):\n",
    "    return np.prod([Prob_x(x,mu,sigma) for x in X])"
   ]
  },
  {
   "cell_type": "code",
   "execution_count": 110,
   "metadata": {
    "collapsed": true
   },
   "outputs": [],
   "source": [
    "def prob_z(x, z, pi, gaus1, gaus2):\n",
    "    mu1,sig1 = gaus1\n",
    "    mu2,sig2 = gaus2\n",
    "    if z==0:\n",
    "        return (pi* Prob_x(x, mu1, sig1))/((pi* Prob_x(x, mu1, sig1)) + ((1-pi)*Prob_x(x,mu2,sig2)))\n",
    "    else:\n",
    "        return ((1-pi)*Prob_x(x,mu2,sig2))/((pi* Prob_x(x, mu1, sig1)) + ((1-pi)*Prob_x(x,mu2,sig2)))\n",
    "    "
   ]
  },
  {
   "cell_type": "markdown",
   "metadata": {},
   "source": [
    "## Update fraction pi\n",
    "## $\\pi_{z, n+1} = \\frac{P(z|x_i, \\theta_n)}{\\sum_{z'}{\\sum_{i}{P(z'|x_i, \\theta_n)}}}$"
   ]
  },
  {
   "cell_type": "code",
   "execution_count": 111,
   "metadata": {},
   "outputs": [],
   "source": [
    "def update_pi(pi, X, gaus1, gaus2):\n",
    "    mu1,sig1 = gaus1\n",
    "    mu2,sig2 = gaus2\n",
    "    summed_pz1 = np.sum([prob_z(x,1,pi, gaus1, gaus2) for x in X])\n",
    "    summed_pz0 = np.sum([prob_z(x,0,pi, gaus1, gaus2) for x in X])\n",
    "    return summed_pz0 / (summed_pz1 + summed_pz0)"
   ]
  },
  {
   "cell_type": "markdown",
   "metadata": {},
   "source": [
    "## Update mean\n",
    "## $\\mu_{z, n+1} = \\frac{\\sum_i{P(z|x_i, \\theta_n)x_i}}{\\sum_i{z|x_i, \\theta_n}}$"
   ]
  },
  {
   "cell_type": "code",
   "execution_count": 112,
   "metadata": {
    "collapsed": true
   },
   "outputs": [],
   "source": [
    "def update_mu(X, z, pi, gaus1, gaus2):\n",
    "    numerator = np.sum([prob_z(x, z, pi, gaus1, gaus2)*x for x in X])\n",
    "    denom = np.sum([prob_z(x, z, pi, gaus1, gaus2) for x in X])\n",
    "    return numerator/denom"
   ]
  },
  {
   "cell_type": "markdown",
   "metadata": {},
   "source": [
    "## Update variance\n",
    "## $\\sigma^2_{z, n+1} = \\frac{\\sum_i{P(z|x_i, \\theta_n)(x_i - \\mu_{z, n+1})^2}}{\\sum_i{P(z|x_i, \\theta_n)}}$"
   ]
  },
  {
   "cell_type": "code",
   "execution_count": 113,
   "metadata": {
    "collapsed": true
   },
   "outputs": [],
   "source": [
    "def update_std(X, z, pi, gaus1, gaus2):\n",
    "    if z==0:\n",
    "        mu = gaus1[0]\n",
    "    else:\n",
    "        mu = gaus2[0]\n",
    "    numerator = np.sum([prob_z(x, z, pi, gaus1, gaus2)*((x-mu)**2) for x in X])\n",
    "    denom = np.sum([prob_z(x, z, pi, gaus1, gaus2) for x in X])\n",
    "    return np.sqrt(numerator/denom)"
   ]
  },
  {
   "cell_type": "markdown",
   "metadata": {},
   "source": [
    "# Iterate updates"
   ]
  },
  {
   "cell_type": "code",
   "execution_count": 118,
   "metadata": {},
   "outputs": [
    {
     "name": "stdout",
     "output_type": "stream",
     "text": [
      "0.694114618831\n",
      "(14.915935157745055, 2.0172755733125021)\n",
      "(0.83342582416375732, 8.0396317728963211)\n",
      "\n",
      "\n",
      "0.699648525632\n",
      "(14.90910524259316, 2.0294450579101118)\n",
      "(0.58986865748023376, 7.9140761484051332)\n",
      "\n",
      "\n",
      "0.703541476428\n",
      "(14.903559523202521, 2.038035535359489)\n",
      "(0.41499616865479488, 7.8211856702696103)\n",
      "\n",
      "\n",
      "0.706270002766\n",
      "(14.899252983829118, 2.0440952436169906)\n",
      "(0.29076354860157988, 7.7538453581676468)\n",
      "\n",
      "\n",
      "0.708174921256\n",
      "(14.896018234153958, 2.0483567216227141)\n",
      "(0.20325491790329284, 7.7057579563434686)\n",
      "\n",
      "\n",
      "0.709500179381\n",
      "(14.893648104573739, 2.0513416049124076)\n",
      "(0.14201530488293759, 7.6717929783718199)\n",
      "\n",
      "\n",
      "0.710419526065\n",
      "(14.891942846468091, 2.0534240333512317)\n",
      "(0.099365965072608947, 7.6479898559606054)\n",
      "\n",
      "\n",
      "0.711055877281\n",
      "(14.890731994736822, 2.0548718746888541)\n",
      "(0.069767539709857773, 7.6314001222213346)\n",
      "\n",
      "\n",
      "0.711495620597\n",
      "(14.889880240431381, 2.0558757460044856)\n",
      "(0.049277727350206003, 7.619882363509662)\n",
      "\n",
      "\n",
      "0.711799137205\n",
      "(14.889285046879452, 2.0565703312989747)\n",
      "(0.035118466896724598, 7.6119073746718016)\n",
      "\n",
      "\n",
      "0.712008449658\n",
      "(14.888871062977346, 2.0570501776597441)\n",
      "(0.025345950973739585, 7.6063956968398099)\n",
      "\n",
      "\n",
      "0.712152709721\n",
      "(14.88858405029962, 2.0573813046437848)\n",
      "(0.018606904679474918, 7.6025913623486376)\n",
      "\n",
      "\n",
      "0.712252093158\n",
      "(14.888385513530114, 2.0576096239127866)\n",
      "(0.013962487907737601, 7.5999678217955022)\n",
      "\n",
      "\n",
      "0.712320540145\n",
      "(14.888248392673772, 2.0577669671690551)\n",
      "(0.010762970498857063, 7.5981596868887245)\n",
      "\n",
      "\n",
      "0.71236767109\n",
      "(14.888153791218327, 2.0578753559270431)\n",
      "(0.0085594667431203621, 7.5969140526497405)\n",
      "\n",
      "\n",
      "0.712400119743\n",
      "(14.888088573016416, 2.0579500012250165)\n",
      "(0.0070422152819815138, 7.5960561777791957)\n",
      "\n",
      "\n",
      "0.712422457773\n",
      "(14.888043634697018, 2.05800139836255)\n",
      "(0.0059976337351119917, 7.5954654731446549)\n",
      "\n",
      "\n",
      "0.712437834498\n",
      "(14.888012681100214, 2.0580367833351687)\n",
      "(0.005278538371829661, 7.5950587892977355)\n",
      "\n",
      "\n",
      "0.712448418812\n",
      "(14.88799136540448, 2.0580611423511885)\n",
      "(0.0047835413013925356, 7.594778825266447)\n",
      "\n",
      "\n",
      "0.712455704115\n",
      "(14.887976689159172, 2.0580779100580822)\n",
      "(0.0044428198420211982, 7.5945861086456201)\n",
      "\n",
      "\n"
     ]
    }
   ],
   "source": [
    "for i in range(20):\n",
    "    new_pi = update_pi(pi, X, (mu1, sig1), (mu2, sig2))\n",
    "    \n",
    "    new_mu1 = update_mu(X, 0, pi, (mu1, sig1), (mu2, sig2))\n",
    "    new_mu2 = update_mu(X, 1, pi, (mu1, sig1), (mu2, sig2))\n",
    "    \n",
    "    new_sig1 = update_std(X, 0, pi, (new_mu1,sig1), (new_mu2,sig2))\n",
    "    new_sig2 = update_std(X, 1, pi, (new_mu1,sig1), (new_mu2,sig2))\n",
    "    \n",
    "    print(new_pi)\n",
    "    print((new_mu1, new_sig1))\n",
    "    print((new_mu2, new_sig2))\n",
    "    print(\"\\n\")\n",
    "    \n",
    "    pi = new_pi\n",
    "    mu1 = new_mu1\n",
    "    mu2 = new_mu2\n",
    "    sig1 = new_sig1\n",
    "    sig2 = new_sig2"
   ]
  },
  {
   "cell_type": "code",
   "execution_count": null,
   "metadata": {
    "collapsed": true
   },
   "outputs": [],
   "source": []
  }
 ],
 "metadata": {
  "anaconda-cloud": {},
  "kernelspec": {
   "display_name": "Python 3",
   "language": "python",
   "name": "python3"
  },
  "language_info": {
   "codemirror_mode": {
    "name": "ipython",
    "version": 3
   },
   "file_extension": ".py",
   "mimetype": "text/x-python",
   "name": "python",
   "nbconvert_exporter": "python",
   "pygments_lexer": "ipython3",
   "version": "3.6.1"
  }
 },
 "nbformat": 4,
 "nbformat_minor": 2
}
